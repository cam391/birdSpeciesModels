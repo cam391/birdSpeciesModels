{
 "cells": [
  {
   "cell_type": "code",
   "execution_count": 1,
   "metadata": {},
   "outputs": [],
   "source": [
    "import keras\n",
    "import tensorflow as tf\n",
    "import numpy as np\n",
    "from keras.applications.vgg16 import preprocess_input\n",
    "from keras.preprocessing.image import ImageDataGenerator\n",
    "from keras.models import Sequential\n",
    "from keras.layers import Dense,Flatten,Dropout\n",
    "from tensorflow.keras import layers\n",
    "from tensorflow import keras\n",
    "import numpy as np\n",
    "from tensorflow.keras.utils import plot_model\n"
   ]
  },
  {
   "cell_type": "code",
   "execution_count": 12,
   "metadata": {},
   "outputs": [
    {
     "name": "stdout",
     "output_type": "stream",
     "text": [
      "\n",
      "We trust you have received the usual lecture from the local System\n",
      "Administrator. It usually boils down to these three things:\n",
      "\n",
      "    #1) Respect the privacy of others.\n",
      "    #2) Think before you type.\n",
      "    #3) With great power comes great responsibility.\n",
      "\n",
      "[sudo] password for hshugart: \n"
     ]
    }
   ],
   "source": []
  },
  {
   "cell_type": "code",
   "execution_count": 2,
   "metadata": {},
   "outputs": [
    {
     "name": "stdout",
     "output_type": "stream",
     "text": [
      "Found 58388 images belonging to 400 classes.\n",
      "Found 2000 images belonging to 400 classes.\n",
      "Found 2000 images belonging to 400 classes.\n"
     ]
    }
   ],
   "source": [
    "train_datagen = ImageDataGenerator(\n",
    "        preprocessing_function=preprocess_input,\n",
    "        shear_range=0.1,\n",
    "        zoom_range=0.1,\n",
    "        horizontal_flip=True, rescale=1/255)\n",
    "\n",
    "targetSize = 150\n",
    "\n",
    "train_generator = train_datagen.flow_from_directory('/nas/longleaf/home/hshugart/archive/archive/train',target_size=(targetSize, targetSize),batch_size=64,class_mode='categorical')\n",
    "\n",
    "#Creating generator for Validation DataSet\n",
    "val_datagen = ImageDataGenerator(preprocessing_function=preprocess_input, rescale=1/255)\n",
    "val_generator = val_datagen.flow_from_directory('/nas/longleaf/home/hshugart/archive/archive/valid',target_size=(targetSize, targetSize),batch_size=32,class_mode='categorical')\n",
    "\n",
    "#Creating generator for Test DataSet\n",
    "test_datagen = ImageDataGenerator(preprocessing_function=preprocess_input, rescale=1/255)\n",
    "test_generator = test_datagen.flow_from_directory('/nas/longleaf/home/hshugart/archive/archive/test',target_size=(targetSize, targetSize),batch_size=32,class_mode='categorical')"
   ]
  },
  {
   "cell_type": "code",
   "execution_count": 4,
   "metadata": {},
   "outputs": [],
   "source": [
    "model = Sequential()\n",
    "model.add(layers.Conv2D(64, (15, 15), activation='relu', input_shape=(targetSize, targetSize, 3)))\n",
    "model.add(layers.Conv2D(64, (9, 9)))\n",
    "model.add(layers.LeakyReLU())\n",
    "model.add(layers.MaxPooling2D(pool_size=(4, 4)))\n",
    "model.add(layers.Conv2D(32, (3,3), activation='relu'))\n",
    "model.add(layers.Conv2D(32, (3, 3)))\n",
    "model.add(layers.LeakyReLU())\n",
    "model.add(layers.GlobalMaxPooling2D())\n",
    "model.add(layers.Flatten())\n",
    "model.add(layers.Dense(1024, activation='relu'))\n",
    "model.add(Dropout(0.35))\n",
    "model.add(layers.Dense(1024, activation='relu'))\n",
    "model.add(Dropout(0.35))\n",
    "model.add(layers.Dense(400, activation='softmax'))"
   ]
  },
  {
   "cell_type": "code",
   "execution_count": 4,
   "metadata": {},
   "outputs": [
    {
     "name": "stdout",
     "output_type": "stream",
     "text": [
      "Model: \"sequential\"\n",
      "_________________________________________________________________\n",
      " Layer (type)                Output Shape              Param #   \n",
      "=================================================================\n",
      " conv2d (Conv2D)             (None, 136, 136, 64)      43264     \n",
      "                                                                 \n",
      " conv2d_1 (Conv2D)           (None, 128, 128, 64)      331840    \n",
      "                                                                 \n",
      " leaky_re_lu (LeakyReLU)     (None, 128, 128, 64)      0         \n",
      "                                                                 \n",
      " max_pooling2d (MaxPooling2D  (None, 32, 32, 64)       0         \n",
      " )                                                               \n",
      "                                                                 \n",
      " conv2d_2 (Conv2D)           (None, 30, 30, 32)        18464     \n",
      "                                                                 \n",
      " conv2d_3 (Conv2D)           (None, 28, 28, 32)        9248      \n",
      "                                                                 \n",
      " leaky_re_lu_1 (LeakyReLU)   (None, 28, 28, 32)        0         \n",
      "                                                                 \n",
      " global_max_pooling2d (Globa  (None, 32)               0         \n",
      " lMaxPooling2D)                                                  \n",
      "                                                                 \n",
      " flatten (Flatten)           (None, 32)                0         \n",
      "                                                                 \n",
      " dense (Dense)               (None, 1024)              33792     \n",
      "                                                                 \n",
      " dropout (Dropout)           (None, 1024)              0         \n",
      "                                                                 \n",
      " dense_1 (Dense)             (None, 1024)              1049600   \n",
      "                                                                 \n",
      " dropout_1 (Dropout)         (None, 1024)              0         \n",
      "                                                                 \n",
      " dense_2 (Dense)             (None, 400)               410000    \n",
      "                                                                 \n",
      "=================================================================\n",
      "Total params: 1,896,208\n",
      "Trainable params: 1,896,208\n",
      "Non-trainable params: 0\n",
      "_________________________________________________________________\n"
     ]
    }
   ],
   "source": [
    "model.summary()"
   ]
  },
  {
   "cell_type": "code",
   "execution_count": 5,
   "metadata": {},
   "outputs": [
    {
     "name": "stdout",
     "output_type": "stream",
     "text": [
      "Epoch 1/70\n",
      "913/913 [==============================] - 281s 285ms/step - loss: 5.5865 - accuracy: 0.0140 - val_loss: 5.0142 - val_accuracy: 0.0335\n",
      "Epoch 2/70\n",
      "913/913 [==============================] - 249s 272ms/step - loss: 4.9192 - accuracy: 0.0467 - val_loss: 4.4502 - val_accuracy: 0.0885\n",
      "Epoch 3/70\n",
      "913/913 [==============================] - 249s 273ms/step - loss: 4.5354 - accuracy: 0.0822 - val_loss: 4.1023 - val_accuracy: 0.1275\n",
      "Epoch 4/70\n",
      "913/913 [==============================] - 250s 274ms/step - loss: 4.3002 - accuracy: 0.1104 - val_loss: 3.8726 - val_accuracy: 0.1750\n",
      "Epoch 5/70\n",
      "913/913 [==============================] - 249s 273ms/step - loss: 4.1354 - accuracy: 0.1312 - val_loss: 3.7109 - val_accuracy: 0.1895\n",
      "Epoch 6/70\n",
      "913/913 [==============================] - 277s 303ms/step - loss: 3.9951 - accuracy: 0.1536 - val_loss: 3.5343 - val_accuracy: 0.2200\n",
      "Epoch 7/70\n",
      "913/913 [==============================] - 279s 305ms/step - loss: 3.8888 - accuracy: 0.1680 - val_loss: 3.4029 - val_accuracy: 0.2350\n",
      "Epoch 8/70\n",
      "913/913 [==============================] - 250s 274ms/step - loss: 3.7772 - accuracy: 0.1871 - val_loss: 3.2658 - val_accuracy: 0.2730\n",
      "Epoch 9/70\n",
      "913/913 [==============================] - 249s 273ms/step - loss: 3.6884 - accuracy: 0.1999 - val_loss: 3.1876 - val_accuracy: 0.2770\n",
      "Epoch 10/70\n",
      "913/913 [==============================] - 249s 272ms/step - loss: 3.6248 - accuracy: 0.2101 - val_loss: 3.1528 - val_accuracy: 0.2905\n",
      "Epoch 11/70\n",
      "913/913 [==============================] - 249s 273ms/step - loss: 3.5560 - accuracy: 0.2211 - val_loss: 3.1102 - val_accuracy: 0.3000\n",
      "Epoch 12/70\n",
      "913/913 [==============================] - 249s 272ms/step - loss: 3.5002 - accuracy: 0.2314 - val_loss: 3.1416 - val_accuracy: 0.2915\n",
      "Epoch 13/70\n",
      "913/913 [==============================] - 248s 272ms/step - loss: 3.4609 - accuracy: 0.2355 - val_loss: 3.0437 - val_accuracy: 0.3085\n",
      "Epoch 14/70\n",
      "913/913 [==============================] - 248s 272ms/step - loss: 3.4060 - accuracy: 0.2452 - val_loss: 3.0585 - val_accuracy: 0.3105\n",
      "Epoch 15/70\n",
      "913/913 [==============================] - 253s 277ms/step - loss: 3.3809 - accuracy: 0.2500 - val_loss: 2.9401 - val_accuracy: 0.3330\n",
      "Epoch 16/70\n",
      "913/913 [==============================] - 249s 273ms/step - loss: 3.3421 - accuracy: 0.2569 - val_loss: 2.9145 - val_accuracy: 0.3345\n",
      "Epoch 17/70\n",
      "913/913 [==============================] - 252s 276ms/step - loss: 3.3195 - accuracy: 0.2602 - val_loss: 2.8435 - val_accuracy: 0.3585\n",
      "Epoch 18/70\n",
      "913/913 [==============================] - 255s 279ms/step - loss: 3.2908 - accuracy: 0.2650 - val_loss: 2.8633 - val_accuracy: 0.3480\n",
      "Epoch 19/70\n",
      "913/913 [==============================] - 248s 271ms/step - loss: 3.2512 - accuracy: 0.2694 - val_loss: 2.8479 - val_accuracy: 0.3555\n",
      "Epoch 20/70\n",
      "913/913 [==============================] - 248s 271ms/step - loss: 3.2198 - accuracy: 0.2740 - val_loss: 2.8034 - val_accuracy: 0.3600\n",
      "Epoch 21/70\n",
      "913/913 [==============================] - 250s 274ms/step - loss: 3.1996 - accuracy: 0.2773 - val_loss: 2.7755 - val_accuracy: 0.3680\n",
      "Epoch 22/70\n",
      "913/913 [==============================] - 252s 276ms/step - loss: 3.1784 - accuracy: 0.2809 - val_loss: 2.8317 - val_accuracy: 0.3595\n",
      "Epoch 23/70\n",
      "913/913 [==============================] - 249s 272ms/step - loss: 3.1181 - accuracy: 0.2905 - val_loss: 2.7674 - val_accuracy: 0.3645\n",
      "Epoch 25/70\n",
      "913/913 [==============================] - 248s 271ms/step - loss: 3.1090 - accuracy: 0.2936 - val_loss: 2.7009 - val_accuracy: 0.3895\n",
      "Epoch 26/70\n",
      "913/913 [==============================] - 249s 273ms/step - loss: 3.0927 - accuracy: 0.2964 - val_loss: 2.6551 - val_accuracy: 0.3875\n",
      "Epoch 27/70\n",
      "328/913 [=========>....................] - ETA: 2:37 - loss: 3.0421 - accuracy: 0.3035"
     ]
    },
    {
     "name": "stderr",
     "output_type": "stream",
     "text": [
      "IOPub message rate exceeded.\n",
      "The notebook server will temporarily stop sending output\n",
      "to the client in order to avoid crashing it.\n",
      "To change this limit, set the config variable\n",
      "`--NotebookApp.iopub_msg_rate_limit`.\n",
      "\n",
      "Current values:\n",
      "NotebookApp.iopub_msg_rate_limit=1000.0 (msgs/sec)\n",
      "NotebookApp.rate_limit_window=3.0 (secs)\n",
      "\n"
     ]
    },
    {
     "name": "stdout",
     "output_type": "stream",
     "text": [
      "913/913 [==============================] - 249s 273ms/step - loss: 3.0009 - accuracy: 0.3109 - val_loss: 2.5986 - val_accuracy: 0.4020\n",
      "Epoch 32/70\n",
      "913/913 [==============================] - 250s 273ms/step - loss: 2.9946 - accuracy: 0.3092 - val_loss: 2.6037 - val_accuracy: 0.4045\n",
      "Epoch 33/70\n",
      "913/913 [==============================] - 251s 274ms/step - loss: 2.9908 - accuracy: 0.3130 - val_loss: 2.5964 - val_accuracy: 0.4005\n",
      "Epoch 34/70\n",
      "913/913 [==============================] - 249s 272ms/step - loss: 2.9583 - accuracy: 0.3186 - val_loss: 2.4937 - val_accuracy: 0.4190\n",
      "Epoch 35/70\n",
      "913/913 [==============================] - 248s 271ms/step - loss: 2.9314 - accuracy: 0.3233 - val_loss: 2.5239 - val_accuracy: 0.4245\n",
      "Epoch 36/70\n",
      "913/913 [==============================] - 248s 271ms/step - loss: 2.9150 - accuracy: 0.3238 - val_loss: 2.5501 - val_accuracy: 0.4055\n",
      "Epoch 37/70\n",
      "913/913 [==============================] - 251s 274ms/step - loss: 2.9119 - accuracy: 0.3248 - val_loss: 2.7309 - val_accuracy: 0.3890\n",
      "Epoch 38/70\n",
      "913/913 [==============================] - 249s 272ms/step - loss: 2.8764 - accuracy: 0.3311 - val_loss: 2.4803 - val_accuracy: 0.4270\n",
      "Epoch 40/70\n",
      "913/913 [==============================] - 250s 273ms/step - loss: 2.8812 - accuracy: 0.3309 - val_loss: 2.4717 - val_accuracy: 0.4260\n",
      "Epoch 41/70\n",
      "913/913 [==============================] - 250s 274ms/step - loss: 2.8580 - accuracy: 0.3342 - val_loss: 2.5020 - val_accuracy: 0.4255\n",
      "Epoch 42/70\n",
      "913/913 [==============================] - 250s 274ms/step - loss: 2.8396 - accuracy: 0.3378 - val_loss: 2.4572 - val_accuracy: 0.4290\n",
      "Epoch 43/70\n",
      "913/913 [==============================] - 250s 273ms/step - loss: 2.8430 - accuracy: 0.3397 - val_loss: 2.4611 - val_accuracy: 0.4260\n",
      "Epoch 44/70\n",
      "913/913 [==============================] - 250s 274ms/step - loss: 2.8209 - accuracy: 0.3420 - val_loss: 2.4600 - val_accuracy: 0.4335\n",
      "Epoch 45/70\n",
      "913/913 [==============================] - 249s 272ms/step - loss: 2.8159 - accuracy: 0.3438 - val_loss: 2.4008 - val_accuracy: 0.4435\n",
      "Epoch 46/70\n",
      "913/913 [==============================] - 251s 275ms/step - loss: 2.7976 - accuracy: 0.3451 - val_loss: 2.3809 - val_accuracy: 0.4560\n",
      "Epoch 47/70\n",
      "913/913 [==============================] - 249s 273ms/step - loss: 2.7846 - accuracy: 0.3491 - val_loss: 2.4194 - val_accuracy: 0.4495\n",
      "Epoch 48/70\n",
      "913/913 [==============================] - 250s 274ms/step - loss: 2.7739 - accuracy: 0.3495 - val_loss: 2.3474 - val_accuracy: 0.4575\n",
      "Epoch 49/70\n",
      "913/913 [==============================] - 250s 274ms/step - loss: 2.7630 - accuracy: 0.3506 - val_loss: 2.3944 - val_accuracy: 0.4415\n",
      "Epoch 50/70\n",
      "913/913 [==============================] - 249s 272ms/step - loss: 2.7942 - accuracy: 0.3464 - val_loss: 2.6362 - val_accuracy: 0.4005\n",
      "Epoch 51/70\n",
      "913/913 [==============================] - 251s 274ms/step - loss: 2.7613 - accuracy: 0.3540 - val_loss: 2.3565 - val_accuracy: 0.4535\n",
      "Epoch 52/70\n",
      "913/913 [==============================] - 250s 273ms/step - loss: 2.7289 - accuracy: 0.3598 - val_loss: 2.3413 - val_accuracy: 0.4585\n",
      "Epoch 53/70\n",
      "913/913 [==============================] - 250s 274ms/step - loss: 2.7259 - accuracy: 0.3581 - val_loss: 2.3363 - val_accuracy: 0.4615\n",
      "Epoch 54/70\n",
      "913/913 [==============================] - 249s 272ms/step - loss: 2.7150 - accuracy: 0.3597 - val_loss: 2.4002 - val_accuracy: 0.4275\n",
      "Epoch 55/70\n",
      "913/913 [==============================] - 249s 273ms/step - loss: 2.6996 - accuracy: 0.3628 - val_loss: 2.3901 - val_accuracy: 0.4585\n",
      "Epoch 56/70\n",
      "913/913 [==============================] - 251s 274ms/step - loss: 2.7070 - accuracy: 0.3602 - val_loss: 2.3706 - val_accuracy: 0.4430\n",
      "Epoch 57/70\n",
      "913/913 [==============================] - 250s 274ms/step - loss: 2.6899 - accuracy: 0.3652 - val_loss: 2.3661 - val_accuracy: 0.4425\n",
      "Epoch 58/70\n",
      "913/913 [==============================] - 249s 273ms/step - loss: 2.6948 - accuracy: 0.3621 - val_loss: 2.4381 - val_accuracy: 0.4330\n",
      "Epoch 59/70\n",
      "913/913 [==============================] - 250s 273ms/step - loss: 2.6852 - accuracy: 0.3642 - val_loss: 2.3938 - val_accuracy: 0.4340\n",
      "Epoch 60/70\n",
      "913/913 [==============================] - 250s 273ms/step - loss: 2.6704 - accuracy: 0.3669 - val_loss: 2.3228 - val_accuracy: 0.4595\n",
      "Epoch 61/70\n",
      "913/913 [==============================] - 250s 273ms/step - loss: 2.6692 - accuracy: 0.3691 - val_loss: 2.3136 - val_accuracy: 0.4650\n",
      "Epoch 63/70\n",
      "913/913 [==============================] - 249s 272ms/step - loss: 2.6400 - accuracy: 0.3730 - val_loss: 2.4086 - val_accuracy: 0.4495\n",
      "Epoch 64/70\n",
      "913/913 [==============================] - 250s 273ms/step - loss: 2.6666 - accuracy: 0.3681 - val_loss: 2.3420 - val_accuracy: 0.4565\n",
      "Epoch 65/70\n",
      "913/913 [==============================] - 249s 273ms/step - loss: 2.6447 - accuracy: 0.3725 - val_loss: 2.3109 - val_accuracy: 0.4595\n",
      "Epoch 66/70\n",
      "913/913 [==============================] - 252s 276ms/step - loss: 2.6739 - accuracy: 0.3655 - val_loss: 2.2745 - val_accuracy: 0.4820\n",
      "Epoch 67/70\n",
      "913/913 [==============================] - 249s 273ms/step - loss: 2.6364 - accuracy: 0.3737 - val_loss: 2.2837 - val_accuracy: 0.4605\n",
      "Epoch 68/70\n",
      "913/913 [==============================] - 250s 274ms/step - loss: 2.6305 - accuracy: 0.3746 - val_loss: 2.2989 - val_accuracy: 0.4515\n",
      "Epoch 69/70\n",
      "913/913 [==============================] - 254s 278ms/step - loss: 2.6306 - accuracy: 0.3752 - val_loss: 2.2686 - val_accuracy: 0.4570\n",
      "Epoch 70/70\n",
      "913/913 [==============================] - 249s 273ms/step - loss: 2.6349 - accuracy: 0.3755 - val_loss: 2.3094 - val_accuracy: 0.4630\n",
      "INFO:tensorflow:Assets written to: SequentialModelTwo/assets\n"
     ]
    }
   ],
   "source": [
    "model.compile(optimizer=tf.keras.optimizers.Adam(), loss='categorical_crossentropy', metrics=['accuracy'])\n",
    "history = model.fit(train_generator,epochs=70,validation_data=val_generator)\n",
    "model.save(\"SequentialModelTwo\")\n",
    "np.save('SequntialModelTwoHistory.npy',history.history)"
   ]
  },
  {
   "cell_type": "code",
   "execution_count": 6,
   "metadata": {},
   "outputs": [],
   "source": [
    "model = keras.models.load_model(\"SequentialModelTwo\")\n",
    "history=np.load('SequntialModelTwoHistory.npy',allow_pickle='TRUE').item()"
   ]
  },
  {
   "cell_type": "code",
   "execution_count": 7,
   "metadata": {},
   "outputs": [
    {
     "data": {
      "image/png": "[encoded data removed]",
      "text/plain": [
       "<Figure size 432x288 with 1 Axes>"
      ]
     },
     "metadata": {
      "needs_background": "light"
     },
     "output_type": "display_data"
    },
    {
     "data": {
      "image/png": "[encoded data removed]",
      "text/plain": [
       "<Figure size 432x288 with 1 Axes>"
      ]
     },
     "metadata": {
      "needs_background": "light"
     },
     "output_type": "display_data"
    },
    {
     "name": "stdout",
     "output_type": "stream",
     "text": [
      "63/63 [==============================] - 5s 84ms/step - loss: 2.2365 - accuracy: 0.4665\n"
     ]
    },
    {
     "data": {
      "text/plain": [
       "[2.2365334033966064, 0.46650001406669617]"
      ]
     },
     "execution_count": 7,
     "metadata": {},
     "output_type": "execute_result"
    }
   ],
   "source": [
    "import matplotlib.pyplot as plt\n",
    "#Loss\n",
    "plt.plot(history['loss'],label='Loss')\n",
    "plt.plot(history['val_loss'],label='Validation Loss')\n",
    "plt.title(\"4 Convolutions Model\")\n",
    "plt.xlabel('Epoch')\n",
    "plt.ylabel('Loss')\n",
    "plt.legend()\n",
    "\n",
    "plt.savefig('ComplexSeqLossGraph.png')\n",
    "plt.show()\n",
    "#Accuracy\n",
    "plt.plot(history['accuracy'],label='Accuracy')\n",
    "plt.plot(history['val_accuracy'],label='Validation Accuracy')\n",
    "plt.title(\"4 Convolutions Model\")\n",
    "plt.xlabel('Epoch')\n",
    "plt.ylabel('Accuracy')\n",
    "plt.legend()\n",
    "plt.savefig('ComplexSeqAccuracyGraph.png')\n",
    "plt.show()\n",
    "\n",
    "plot_model(model)\n",
    "model.evaluate(test_generator)"
   ]
  }
 ],
 "metadata": {
  "kernelspec": {
   "display_name": "Python 3",
   "language": "python",
   "name": "python3"
  },
  "language_info": {
   "codemirror_mode": {
    "name": "ipython",
    "version": 3
   },
   "file_extension": ".py",
   "mimetype": "text/x-python",
   "name": "python",
   "nbconvert_exporter": "python",
   "pygments_lexer": "ipython3",
   "version": "3.8.3"
  }
 },
 "nbformat": 4,
 "nbformat_minor": 4
}

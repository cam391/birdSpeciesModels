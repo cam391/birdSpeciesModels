{
 "cells": [
  {
   "cell_type": "code",
   "execution_count": 17,
   "metadata": {},
   "outputs": [],
   "source": [
    "import pandas as pd\n",
    "import numpy as np\n",
    "import sklearn\n",
    "import cv2\n",
    "import pickle\n",
    "from sklearn import svm, metrics"
   ]
  },
  {
   "cell_type": "code",
   "execution_count": 2,
   "metadata": {},
   "outputs": [
    {
     "data": {
      "text/html": [
       "<div>\n",
       "<style scoped>\n",
       "    .dataframe tbody tr th:only-of-type {\n",
       "        vertical-align: middle;\n",
       "    }\n",
       "\n",
       "    .dataframe tbody tr th {\n",
       "        vertical-align: top;\n",
       "    }\n",
       "\n",
       "    .dataframe thead th {\n",
       "        text-align: right;\n",
       "    }\n",
       "</style>\n",
       "<table border=\"1\" class=\"dataframe\">\n",
       "  <thead>\n",
       "    <tr style=\"text-align: right;\">\n",
       "      <th></th>\n",
       "      <th>Unnamed: 0</th>\n",
       "      <th>class index</th>\n",
       "      <th>filepaths</th>\n",
       "      <th>labels</th>\n",
       "      <th>data set</th>\n",
       "    </tr>\n",
       "  </thead>\n",
       "  <tbody>\n",
       "    <tr>\n",
       "      <th>0</th>\n",
       "      <td>1</td>\n",
       "      <td>0</td>\n",
       "      <td>train/ABBOTTS BABBLER/001.jpg</td>\n",
       "      <td>ABBOTTS BABBLER</td>\n",
       "      <td>train</td>\n",
       "    </tr>\n",
       "    <tr>\n",
       "      <th>1</th>\n",
       "      <td>2</td>\n",
       "      <td>0</td>\n",
       "      <td>train/ABBOTTS BABBLER/002.jpg</td>\n",
       "      <td>ABBOTTS BABBLER</td>\n",
       "      <td>train</td>\n",
       "    </tr>\n",
       "    <tr>\n",
       "      <th>2</th>\n",
       "      <td>3</td>\n",
       "      <td>0</td>\n",
       "      <td>train/ABBOTTS BABBLER/003.jpg</td>\n",
       "      <td>ABBOTTS BABBLER</td>\n",
       "      <td>train</td>\n",
       "    </tr>\n",
       "    <tr>\n",
       "      <th>3</th>\n",
       "      <td>4</td>\n",
       "      <td>0</td>\n",
       "      <td>train/ABBOTTS BABBLER/004.jpg</td>\n",
       "      <td>ABBOTTS BABBLER</td>\n",
       "      <td>train</td>\n",
       "    </tr>\n",
       "    <tr>\n",
       "      <th>4</th>\n",
       "      <td>5</td>\n",
       "      <td>0</td>\n",
       "      <td>train/ABBOTTS BABBLER/005.jpg</td>\n",
       "      <td>ABBOTTS BABBLER</td>\n",
       "      <td>train</td>\n",
       "    </tr>\n",
       "  </tbody>\n",
       "</table>\n",
       "</div>"
      ],
      "text/plain": [
       "   Unnamed: 0  class index                      filepaths           labels  \\\n",
       "0           1            0  train/ABBOTTS BABBLER/001.jpg  ABBOTTS BABBLER   \n",
       "1           2            0  train/ABBOTTS BABBLER/002.jpg  ABBOTTS BABBLER   \n",
       "2           3            0  train/ABBOTTS BABBLER/003.jpg  ABBOTTS BABBLER   \n",
       "3           4            0  train/ABBOTTS BABBLER/004.jpg  ABBOTTS BABBLER   \n",
       "4           5            0  train/ABBOTTS BABBLER/005.jpg  ABBOTTS BABBLER   \n",
       "\n",
       "  data set  \n",
       "0    train  \n",
       "1    train  \n",
       "2    train  \n",
       "3    train  \n",
       "4    train  "
      ]
     },
     "execution_count": 2,
     "metadata": {},
     "output_type": "execute_result"
    }
   ],
   "source": [
    "birds = pd.read_csv('birds.csv')\n",
    "birds.head()"
   ]
  },
  {
   "cell_type": "code",
   "execution_count": 6,
   "metadata": {},
   "outputs": [],
   "source": [
    "birdsTrain = birds.loc[birds['data set'] == 'train',:]\n",
    "trainY = birdsTrain['class index']"
   ]
  },
  {
   "cell_type": "code",
   "execution_count": 5,
   "metadata": {},
   "outputs": [
    {
     "name": "stdout",
     "output_type": "stream",
     "text": [
      "X_data shape: (2000, 26, 26, 3)\n"
     ]
    }
   ],
   "source": [
    "trainID = birds.loc[:, 'data set'] == 'train' \n",
    "testID = birds.loc[:, 'data set'] == 'test' \n",
    "validateID = birds.loc[:, 'data set'] == 'valid' \n",
    "\n",
    "X_data_train = []\n",
    "X_data_test = []\n",
    "X_data_validation = []\n",
    "\n",
    "totalPixels = 26\n",
    "\n",
    "files_train = birds.loc[trainID, 'filepaths']\n",
    "files_test = birds.loc[testID, 'filepaths']\n",
    "files_valid = birds.loc[validateID, 'filepaths']\n",
    "for myFile in files_test:\n",
    "    image = cv2.imread(myFile)\n",
    "    image = cv2.resize(image, (totalPixels, totalPixels))\n",
    "    X_data_test.append(image)\n",
    "for myFile in files_valid:\n",
    "    image = cv2.imread(myFile)\n",
    "    image = cv2.resize(image, (totalPixels, totalPixels))\n",
    "    X_data_validation.append(image)\n",
    "for myFile in files_train:\n",
    "    image = cv2.imread(myFile)\n",
    "    image = cv2.resize(image, (totalPixels, totalPixels))\n",
    "    X_data_train.append(image)"
   ]
  },
  {
   "cell_type": "code",
   "execution_count": 14,
   "metadata": {},
   "outputs": [],
   "source": [
    "X_data_train = np.array(X_data_train).reshape((58388, totalPixels*totalPixels*3))"
   ]
  },
  {
   "cell_type": "code",
   "execution_count": 15,
   "metadata": {},
   "outputs": [
    {
     "data": {
      "text/plain": [
       "SVC(kernel='linear')"
      ]
     },
     "execution_count": 15,
     "metadata": {},
     "output_type": "execute_result"
    }
   ],
   "source": [
    "birdSVM = svm.SVC(kernel='linear')\n",
    "\n",
    "birdSVM.fit(X_data_train, trainY)"
   ]
  },
  {
   "cell_type": "code",
   "execution_count": 18,
   "metadata": {},
   "outputs": [],
   "source": [
    "pickle.dump(birdSVM, open('SVM_No_PCA.sav', 'wb'))"
   ]
  },
  {
   "cell_type": "code",
   "execution_count": 19,
   "metadata": {},
   "outputs": [],
   "source": [
    "X_data_test = np.array(X_data_test).reshape((2000, totalPixels*totalPixels*3))\n",
    "\n",
    "birdsTest = birds.loc[birds['data set'] == 'test',:]\n",
    "testY = birdsTest['class index']"
   ]
  },
  {
   "cell_type": "code",
   "execution_count": 20,
   "metadata": {},
   "outputs": [],
   "source": [
    "y_pred = birdSVM.predict(X_data_test)"
   ]
  },
  {
   "cell_type": "code",
   "execution_count": 21,
   "metadata": {},
   "outputs": [
    {
     "name": "stdout",
     "output_type": "stream",
     "text": [
      "Accuracy: 0.2435\n"
     ]
    }
   ],
   "source": [
    "print(\"Accuracy:\",metrics.accuracy_score(testY, y_pred))"
   ]
  }
 ],
 "metadata": {
  "kernelspec": {
   "display_name": "Python 3",
   "language": "python",
   "name": "python3"
  },
  "language_info": {
   "codemirror_mode": {
    "name": "ipython",
    "version": 3
   },
   "file_extension": ".py",
   "mimetype": "text/x-python",
   "name": "python",
   "nbconvert_exporter": "python",
   "pygments_lexer": "ipython3",
   "version": "3.8.3"
  }
 },
 "nbformat": 4,
 "nbformat_minor": 4
}

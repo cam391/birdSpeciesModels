{
 "cells": [
  {
   "cell_type": "code",
   "execution_count": 1,
   "metadata": {},
   "outputs": [],
   "source": [
    "import os\n",
    "import pandas as pd\n",
    "import cv2\n",
    "import numpy as np\n",
    "os.chdir(\"/nas/longleaf/home/cam391/STOR 565 Project/\")\n",
    "birds = pd.read_csv(\"birds.csv\")"
   ]
  },
  {
   "cell_type": "code",
   "execution_count": 10,
   "metadata": {},
   "outputs": [
    {
     "name": "stdout",
     "output_type": "stream",
     "text": [
      "X_data shape: (2000, 80, 80, 3)\n"
     ]
    }
   ],
   "source": [
    "trainID = birds.loc[:, 'data set'] == 'train' \n",
    "testID = birds.loc[:, 'data set'] == 'test' \n",
    "validateID = birds.loc[:, 'data set'] == 'valid' \n",
    "\n",
    "X_data_train = []\n",
    "X_data_test = []\n",
    "X_data_validation = []\n",
    "\n",
    "files_train = birds.loc[trainID, 'filepaths']\n",
    "files_test = birds.loc[testID, 'filepaths']\n",
    "files_valid = birds.loc[validateID, 'filepaths']\n",
    "for myFile in files_test:\n",
    "    image = cv2.imread(myFile)\n",
    "    image = cv2.resize(image, (80, 80))\n",
    "    X_data_test.append(image)\n",
    "for myFile in files_valid:\n",
    "    image = cv2.imread(myFile)\n",
    "    image = cv2.resize(image, (80, 80))\n",
    "    X_data_validation.append(image)\n",
    "for myFile in files_train:\n",
    "    image = cv2.imread(myFile)\n",
    "    image = cv2.resize(image, (80, 80))\n",
    "    X_data_train.append(image)\n",
    "print('X_data shape:', np.array(X_data_test).shape)"
   ]
  },
  {
   "cell_type": "code",
   "execution_count": 11,
   "metadata": {},
   "outputs": [
    {
     "name": "stdout",
     "output_type": "stream",
     "text": [
      "X_data shape: (58388, 80, 80, 3)\n"
     ]
    }
   ],
   "source": [
    "print('X_data shape:', np.array(X_data_train).shape)"
   ]
  },
  {
   "cell_type": "code",
   "execution_count": 12,
   "metadata": {},
   "outputs": [],
   "source": [
    "X_data_train = np.array(X_data_train).reshape((58388, 80*80*3))\n",
    "X_data_test = np.array(X_data_test).reshape((2000, 80*80*3))\n",
    "X_data_validation = np.array(X_data_validation).reshape((2000, 80*80*3))"
   ]
  },
  {
   "cell_type": "code",
   "execution_count": null,
   "metadata": {},
   "outputs": [],
   "source": [
    "from sklearn.decomposition import PCA\n",
    "\n",
    "pca = PCA()\n",
    "pcaTraining = pca.fit_transform(X_data_train)"
   ]
  },
  {
   "cell_type": "code",
   "execution_count": null,
   "metadata": {},
   "outputs": [],
   "source": [
    "pcaTraining.shape"
   ]
  },
  {
   "cell_type": "code",
   "execution_count": 11,
   "metadata": {},
   "outputs": [],
   "source": [
    "np.save('trainPCA64', pcaTraining)"
   ]
  }
 ],
 "metadata": {
  "kernelspec": {
   "display_name": "Python 3",
   "language": "python",
   "name": "python3"
  },
  "language_info": {
   "codemirror_mode": {
    "name": "ipython",
    "version": 3
   },
   "file_extension": ".py",
   "mimetype": "text/x-python",
   "name": "python",
   "nbconvert_exporter": "python",
   "pygments_lexer": "ipython3",
   "version": "3.8.3"
  }
 },
 "nbformat": 4,
 "nbformat_minor": 4
}
